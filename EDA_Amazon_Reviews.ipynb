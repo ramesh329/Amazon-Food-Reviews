{
 "cells": [
  {
   "cell_type": "code",
   "execution_count": 1,
   "metadata": {},
   "outputs": [],
   "source": [
    "#importing required libraries\n",
    "%matplotlib inline\n",
    "import warnings\n",
    "import sys\n",
    "if not sys.warnoptions:\n",
    "    warnings.simplefilter(\"ignore\")\n",
    "\n",
    "import numpy as np\n",
    "import pandas as pd\n",
    "import matplotlib.pyplot as plt\n",
    "import seaborn as sns\n",
    "\n",
    "\n",
    "#importind data as pandas dataframe\n",
    "amazon_data = pd.read_csv(\"Reviews.csv\")"
   ]
  },
  {
   "cell_type": "code",
   "execution_count": 2,
   "metadata": {},
   "outputs": [
    {
     "name": "stdout",
     "output_type": "stream",
     "text": [
      "number of rows in data= 568454\n",
      "number of columns in data= 10\n",
      "\n",
      "\n"
     ]
    },
    {
     "data": {
      "text/html": [
       "<div>\n",
       "<style scoped>\n",
       "    .dataframe tbody tr th:only-of-type {\n",
       "        vertical-align: middle;\n",
       "    }\n",
       "\n",
       "    .dataframe tbody tr th {\n",
       "        vertical-align: top;\n",
       "    }\n",
       "\n",
       "    .dataframe thead th {\n",
       "        text-align: right;\n",
       "    }\n",
       "</style>\n",
       "<table border=\"1\" class=\"dataframe\">\n",
       "  <thead>\n",
       "    <tr style=\"text-align: right;\">\n",
       "      <th></th>\n",
       "      <th>Id</th>\n",
       "      <th>ProductId</th>\n",
       "      <th>UserId</th>\n",
       "      <th>ProfileName</th>\n",
       "      <th>HelpfulnessNumerator</th>\n",
       "      <th>HelpfulnessDenominator</th>\n",
       "      <th>Score</th>\n",
       "      <th>Time</th>\n",
       "      <th>Summary</th>\n",
       "      <th>Text</th>\n",
       "    </tr>\n",
       "  </thead>\n",
       "  <tbody>\n",
       "    <tr>\n",
       "      <th>0</th>\n",
       "      <td>1</td>\n",
       "      <td>B001E4KFG0</td>\n",
       "      <td>A3SGXH7AUHU8GW</td>\n",
       "      <td>delmartian</td>\n",
       "      <td>1</td>\n",
       "      <td>1</td>\n",
       "      <td>5</td>\n",
       "      <td>1303862400</td>\n",
       "      <td>Good Quality Dog Food</td>\n",
       "      <td>I have bought several of the Vitality canned d...</td>\n",
       "    </tr>\n",
       "    <tr>\n",
       "      <th>1</th>\n",
       "      <td>2</td>\n",
       "      <td>B00813GRG4</td>\n",
       "      <td>A1D87F6ZCVE5NK</td>\n",
       "      <td>dll pa</td>\n",
       "      <td>0</td>\n",
       "      <td>0</td>\n",
       "      <td>1</td>\n",
       "      <td>1346976000</td>\n",
       "      <td>Not as Advertised</td>\n",
       "      <td>Product arrived labeled as Jumbo Salted Peanut...</td>\n",
       "    </tr>\n",
       "    <tr>\n",
       "      <th>2</th>\n",
       "      <td>3</td>\n",
       "      <td>B000LQOCH0</td>\n",
       "      <td>ABXLMWJIXXAIN</td>\n",
       "      <td>Natalia Corres \"Natalia Corres\"</td>\n",
       "      <td>1</td>\n",
       "      <td>1</td>\n",
       "      <td>4</td>\n",
       "      <td>1219017600</td>\n",
       "      <td>\"Delight\" says it all</td>\n",
       "      <td>This is a confection that has been around a fe...</td>\n",
       "    </tr>\n",
       "    <tr>\n",
       "      <th>3</th>\n",
       "      <td>4</td>\n",
       "      <td>B000UA0QIQ</td>\n",
       "      <td>A395BORC6FGVXV</td>\n",
       "      <td>Karl</td>\n",
       "      <td>3</td>\n",
       "      <td>3</td>\n",
       "      <td>2</td>\n",
       "      <td>1307923200</td>\n",
       "      <td>Cough Medicine</td>\n",
       "      <td>If you are looking for the secret ingredient i...</td>\n",
       "    </tr>\n",
       "    <tr>\n",
       "      <th>4</th>\n",
       "      <td>5</td>\n",
       "      <td>B006K2ZZ7K</td>\n",
       "      <td>A1UQRSCLF8GW1T</td>\n",
       "      <td>Michael D. Bigham \"M. Wassir\"</td>\n",
       "      <td>0</td>\n",
       "      <td>0</td>\n",
       "      <td>5</td>\n",
       "      <td>1350777600</td>\n",
       "      <td>Great taffy</td>\n",
       "      <td>Great taffy at a great price.  There was a wid...</td>\n",
       "    </tr>\n",
       "  </tbody>\n",
       "</table>\n",
       "</div>"
      ],
      "text/plain": [
       "   Id   ProductId          UserId                      ProfileName  \\\n",
       "0   1  B001E4KFG0  A3SGXH7AUHU8GW                       delmartian   \n",
       "1   2  B00813GRG4  A1D87F6ZCVE5NK                           dll pa   \n",
       "2   3  B000LQOCH0   ABXLMWJIXXAIN  Natalia Corres \"Natalia Corres\"   \n",
       "3   4  B000UA0QIQ  A395BORC6FGVXV                             Karl   \n",
       "4   5  B006K2ZZ7K  A1UQRSCLF8GW1T    Michael D. Bigham \"M. Wassir\"   \n",
       "\n",
       "   HelpfulnessNumerator  HelpfulnessDenominator  Score        Time  \\\n",
       "0                     1                       1      5  1303862400   \n",
       "1                     0                       0      1  1346976000   \n",
       "2                     1                       1      4  1219017600   \n",
       "3                     3                       3      2  1307923200   \n",
       "4                     0                       0      5  1350777600   \n",
       "\n",
       "                 Summary                                               Text  \n",
       "0  Good Quality Dog Food  I have bought several of the Vitality canned d...  \n",
       "1      Not as Advertised  Product arrived labeled as Jumbo Salted Peanut...  \n",
       "2  \"Delight\" says it all  This is a confection that has been around a fe...  \n",
       "3         Cough Medicine  If you are looking for the secret ingredient i...  \n",
       "4            Great taffy  Great taffy at a great price.  There was a wid...  "
      ]
     },
     "execution_count": 2,
     "metadata": {},
     "output_type": "execute_result"
    }
   ],
   "source": [
    "#getting the number of data points and number of columns of the data\n",
    "print(\"number of rows in data=\",amazon_data.shape[0])\n",
    "print(\"number of columns in data=\",amazon_data.shape[1])\n",
    "print(\"\\n\")\n",
    "amazon_data.head(5)"
   ]
  },
  {
   "cell_type": "code",
   "execution_count": 3,
   "metadata": {},
   "outputs": [],
   "source": [
    "#changing the timestamp column into standard time\n",
    "amazon_data[\"Time\"] = pd.to_datetime(amazon_data[\"Time\"] , unit =\"s\")"
   ]
  },
  {
   "cell_type": "code",
   "execution_count": 4,
   "metadata": {},
   "outputs": [
    {
     "name": "stdout",
     "output_type": "stream",
     "text": [
      "Index(['Id', 'ProductId', 'UserId', 'ProfileName', 'HelpfulnessNumerator',\n",
      "       'HelpfulnessDenominator', 'Score', 'Time', 'Summary', 'Text'],\n",
      "      dtype='object')\n",
      "<class 'pandas.core.frame.DataFrame'>\n",
      "RangeIndex: 568454 entries, 0 to 568453\n",
      "Data columns (total 10 columns):\n",
      "Id                        568454 non-null int64\n",
      "ProductId                 568454 non-null object\n",
      "UserId                    568454 non-null object\n",
      "ProfileName               568438 non-null object\n",
      "HelpfulnessNumerator      568454 non-null int64\n",
      "HelpfulnessDenominator    568454 non-null int64\n",
      "Score                     568454 non-null int64\n",
      "Time                      568454 non-null datetime64[ns]\n",
      "Summary                   568427 non-null object\n",
      "Text                      568454 non-null object\n",
      "dtypes: datetime64[ns](1), int64(4), object(5)\n",
      "memory usage: 43.4+ MB\n",
      "None\n"
     ]
    }
   ],
   "source": [
    "#getting the information about columns\n",
    "print(amazon_data.columns)\n",
    "print(amazon_data.info())\n"
   ]
  },
  {
   "cell_type": "markdown",
   "metadata": {},
   "source": [
    "## Droping the Reviews with Rating Score 3 and Assigning labels to the reviews"
   ]
  },
  {
   "cell_type": "code",
   "execution_count": 5,
   "metadata": {},
   "outputs": [],
   "source": [
    "#removing the reviews with rating score equals to 3 \n",
    "\n",
    "amazon_data_filtered = amazon_data[amazon_data[\"Score\"] != 3]\n",
    "\n",
    "\n",
    "#assigning labels, reviews with rating greater than 3 will be assginged as \"Postive\" , otherwise it will be \"Negative\"\n",
    "\n",
    "def remove_3_score(r):\n",
    "    if r > 3:\n",
    "        return \"Positive\"\n",
    "    else:\n",
    "        return \"Negative\"\n",
    "\n",
    "review_score = amazon_data_filtered[\"Score\"]    \n",
    "review_polarity = review_score.map(remove_3_score)\n",
    "\n",
    "#replacing the score column with review polarity column\n",
    "\n",
    "amazon_data_filtered[\"Score\"] = review_polarity\n",
    "    \n",
    "    "
   ]
  },
  {
   "cell_type": "markdown",
   "metadata": {},
   "source": [
    "## Removing Duplicate Entries and reviews realted to books in Data"
   ]
  },
  {
   "cell_type": "code",
   "execution_count": 6,
   "metadata": {},
   "outputs": [],
   "source": [
    "#sorting data by productId in ascending order\n",
    "amazon_data_sorted = amazon_data_filtered.sort_values('ProductId', axis=0, ascending=True, inplace=False,\n",
    "                                                      kind='quicksort', na_position='last')\n",
    "\n",
    "#droping the duplicates entries and retaining the first entry of duplicated data point\n",
    "amazon_data_deduplicate=amazon_data_sorted.drop_duplicates(subset={\"UserId\",\"ProfileName\",\"Time\",\"Text\"},\n",
    "                                                              keep='first', inplace=False)\n",
    "\n",
    "#filtering the data with helpfulness numerator less than helpfulness denominator as it not a possible case\n",
    "amazon_data_deduplicate1 = amazon_data_deduplicate[amazon_data_deduplicate.HelpfulnessNumerator <= \n",
    "                                                 amazon_data_deduplicate.HelpfulnessDenominator]\n",
    "\n",
    "#droping the reviews realted books\n",
    "amazon_data_final= amazon_data_deduplicate1.iloc[38:,]\n"
   ]
  },
  {
   "cell_type": "code",
   "execution_count": 7,
   "metadata": {},
   "outputs": [
    {
     "name": "stdout",
     "output_type": "stream",
     "text": [
      "(364133, 10)\n"
     ]
    }
   ],
   "source": [
    "#getting the final shape of the data\n",
    "print(amazon_data_final.shape)"
   ]
  },
  {
   "cell_type": "code",
   "execution_count": 8,
   "metadata": {},
   "outputs": [
    {
     "name": "stdout",
     "output_type": "stream",
     "text": [
      "64.05672226776485\n"
     ]
    }
   ],
   "source": [
    "#getting the ampunt o data retained after droping reviews with rating 3 and droping duplicates\n",
    "print(len(amazon_data_final)/len(amazon_data)*100)"
   ]
  },
  {
   "cell_type": "code",
   "execution_count": 9,
   "metadata": {},
   "outputs": [
    {
     "name": "stdout",
     "output_type": "stream",
     "text": [
      "Positive    307026\n",
      "Negative     57107\n",
      "Name: Score, dtype: int64\n"
     ]
    },
    {
     "data": {
      "text/plain": [
       "Text(0.5,0,'polarity labels')"
      ]
     },
     "execution_count": 9,
     "metadata": {},
     "output_type": "execute_result"
    },
    {
     "data": {
      "image/png": "[encoded data removed]",
      "text/plain": [
       "<Figure size 432x288 with 1 Axes>"
      ]
     },
     "metadata": {},
     "output_type": "display_data"
    }
   ],
   "source": [
    "#getting the number of revies presernt in each category\n",
    "\n",
    "polarity_count = amazon_data_final[\"Score\"].value_counts()\n",
    "print(polarity_count)\n",
    "\n",
    "#ploting the number of reviews in each category\n",
    "sns.set_style('whitegrid')\n",
    "sns.barplot(polarity_count.index , polarity_count.values)\n",
    "plt.title(\"number of reviews in each category of polarity \")\n",
    "plt.ylabel('Number of reviews', fontsize=18)\n",
    "plt.xlabel('polarity labels', fontsize=18) \n",
    "\n",
    "\n",
    "\n"
   ]
  },
  {
   "cell_type": "markdown",
   "metadata": {},
   "source": [
    "### Observation:\n",
    "1) Clearly we san see that dataset is imbalanced , with positive class in majority\n",
    "\n",
    "# Text Pre-Processing"
   ]
  },
  {
   "cell_type": "code",
   "execution_count": 10,
   "metadata": {},
   "outputs": [],
   "source": [
    "#importing required libraries\n",
    "import re\n",
    "\n",
    "#pre-defined finctions to remove html tags ,punctuations, special characters\n",
    "\n",
    "#function fro removing html tags\n",
    "def remove_html (sentence):\n",
    "    cleanhtml = re.compile('<.*?>')\n",
    "    clean_text = re.sub(cleanhtml,' ',str(sentence))\n",
    "    return clean_text\n",
    "\n",
    "#function for removing punctuations and special characters\n",
    "def remove_punc(sentence):\n",
    "    cleanpunc = re.sub(r'[?|!|\\'|\"|#]',r'',sentence)\n",
    "    cleanpunc = re.sub(r'[.|,|)|(|\\|/]',r' ',cleanpunc)\n",
    "    cleanpunc = cleanpunc.strip()\n",
    "    cleanpunc = cleanpunc.replace(\"\\n\" ,'')\n",
    "    return cleanpunc\n",
    "    \n",
    "    \n",
    "#function for keeping only alphabets\n",
    "def keep_alpha(sentence):\n",
    "    alpha_sentence = \"\"\n",
    "    for word in sentence.split():\n",
    "        alpha_word = re.sub('[^a-z A-Z]+', ' ', word)\n",
    "        alpha_sentence += alpha_word\n",
    "        alpha_sentence += \" \"\n",
    "    alpha_sentence = alpha_sentence.strip()\n",
    "    return alpha_sentence\n",
    "\n",
    "\n",
    "\n"
   ]
  },
  {
   "cell_type": "code",
   "execution_count": 11,
   "metadata": {},
   "outputs": [
    {
     "name": "stdout",
     "output_type": "stream",
     "text": [
      "{'shan', 'through', 'out', 'don', 've', 'just', 'why', 'it', 'them', 'they', 'won', \"that'll\", 'into', \"couldn't\", 'doesn', 'itself', 'before', 'there', 'five', 'because', 'is', 'being', \"you've\", 'after', 'below', 'hasn', 'she', 't', 'some', \"weren't\", 'are', 'whom', \"hadn't\", \"isn't\", 'until', 'yet', 'now', \"you'll\", 'those', 'our', 'hers', 'no', 'both', 'above', 'myself', 'when', 'haven', \"haven't\", 'her', 'had', 'didn', 'your', 'an', \"shouldn't\", 'or', 'how', 'what', 'up', 'own', 'yours', 'once', 'll', 'wasn', 'me', 'ourselves', 'who', \"it's\", 'can', 'him', 'his', 'further', 'on', \"wasn't\", 'himself', 'needn', 'should', \"needn't\", 'eight', 'a', 'of', 'such', 'again', 'their', 'my', 'three', 'same', 'so', 'he', 'that', 'at', 'couldn', 'isn', 'here', 'these', 'most', 'shouldn', 'will', 'one', 'nor', \"should've\", 'hadn', 'i', 'than', 'did', 'wouldn', 'with', 'ours', 're', 'two', 'does', 'been', 'weren', 'only', 'we', 'off', 'm', 'from', 'then', 'be', 'theirs', 'd', \"you're\", 'however', 'yourselves', \"mustn't\", 'too', 'about', 'six', \"shan't\", \"wouldn't\", 'doing', 'during', 'aren', \"didn't\", 'also', 'have', 'having', \"she's\", 'the', 'in', 'but', 'by', 'zero', 'as', 'if', 'yourself', \"aren't\", \"you'd\", 'while', 'its', 'where', 'other', 'seven', \"mightn't\", 'were', \"doesn't\", 'do', 'ten', 'ain', 'you', \"don't\", 'down', 'this', 'any', \"won't\", 'all', 'may', 'has', 'over', 'am', 'themselves', 'and', \"hasn't\", 'ma', 'mightn', 'under', 'four', 'each', 'o', 'was', 'for', 'to', 'which', 'nine', 's', 'y', 'mustn', 'herself'}\n"
     ]
    }
   ],
   "source": [
    "#removing stopwords with some exceptions and do stemmming\n",
    "#initializing stopwords with some exceptions words like not and very and stemming \n",
    "import nltk\n",
    "#nltk.download(\"stopwords\")\n",
    "\n",
    "from nltk.corpus import stopwords\n",
    "\n",
    "exceptions = set((\"very\",\"not\",\"few\",\"against\",\"more\" ,\"between\",))\n",
    "\n",
    "stop_words = set(stopwords.words('english')) - exceptions\n",
    "stop_words.update(['zero','one','two','three','four','five','six','seven','eight',\n",
    "                   'nine','ten','may','also','however','yet'])\n",
    "print(stop_words)\n",
    "\n",
    "#function for removing stopwords\n",
    "\n",
    "def remove_stopwords(sentence):\n",
    "    no_stopword_review = \"\"\n",
    "    for word in sentence.split():\n",
    "        if word not in stop_words:\n",
    "            no_stopword_review += word\n",
    "            no_stopword_review += \" \"\n",
    "    no_stopword_review = no_stopword_review.strip()\n",
    "    return no_stopword_review\n",
    "\n",
    "\n",
    "#stemming\n",
    "sno = nltk.stem.SnowballStemmer('english')\n",
    "\n",
    "#function to do stemming\n",
    "def stem_remove(sentence):\n",
    "    stem_sentence = \"\"\n",
    "    for word in sentence.split():\n",
    "        stem_word = sno.stem(word)\n",
    "        stem_sentence += stem_word\n",
    "        stem_sentence += \" \"\n",
    "    stem_sentence = stem_sentence.strip()\n",
    "    return stem_sentence\n",
    "\n",
    "\n"
   ]
  },
  {
   "cell_type": "code",
   "execution_count": 12,
   "metadata": {},
   "outputs": [],
   "source": [
    "#applying all pre-processing functions on the text to get cleaned text\n",
    "amazon_data_final['Text'] = amazon_data_final[\"Text\"].str.lower()\n",
    "amazon_data_final['Text'] = amazon_data_final['Text'].apply(remove_html)\n",
    "amazon_data_final[\"Text\"] = amazon_data_final[\"Text\"].apply(remove_punc)\n",
    "amazon_data_final[\"Text\"] = amazon_data_final[\"Text\"].apply(keep_alpha)\n",
    "amazon_data_final[\"Text\"] = amazon_data_final[\"Text\"].apply(remove_stopwords)\n",
    "amazon_data_final[\"Text\"] = amazon_data_final[\"Text\"].apply(stem_remove)\n"
   ]
  },
  {
   "cell_type": "code",
   "execution_count": 13,
   "metadata": {},
   "outputs": [],
   "source": [
    "#reseting the index\n",
    "amazon_data_final.reset_index(drop= True ,inplace =True)"
   ]
  },
  {
   "cell_type": "code",
   "execution_count": 14,
   "metadata": {},
   "outputs": [],
   "source": [
    "#saving the data after pre-processing\n",
    "amazon_data_final.to_csv(\"Reviews_final.csv\", index =False)"
   ]
  }
 ],
 "metadata": {
  "kernelspec": {
   "display_name": "Python 3",
   "language": "python",
   "name": "python3"
  },
  "language_info": {
   "codemirror_mode": {
    "name": "ipython",
    "version": 3
   },
   "file_extension": ".py",
   "mimetype": "text/x-python",
   "name": "python",
   "nbconvert_exporter": "python",
   "pygments_lexer": "ipython3",
   "version": "3.6.5"
  }
 },
 "nbformat": 4,
 "nbformat_minor": 2
}
